{
 "cells": [
  {
   "cell_type": "markdown",
   "metadata": {},
   "source": [
    "<h1> DS200A Computer Vision Assignment</h1>"
   ]
  },
  {
   "cell_type": "markdown",
   "metadata": {},
   "source": [
    "<h2>  Part One: Data Input </h2>\t\n"
   ]
  },
  {
   "cell_type": "markdown",
   "metadata": {},
   "source": [
    "<h3>  Import Statements </h3>\t\n"
   ]
  },
  {
   "cell_type": "code",
   "execution_count": 1,
   "metadata": {
    "collapsed": true
   },
   "outputs": [],
   "source": [
    "#Import anything you need here\n",
    "import numpy as np\n",
    "import matplotlib.pyplot as plt\n",
    "import pandas as pd\n",
    "import matplotlib\n",
    "import skimage\n",
    "from skimage import data\n",
    "from skimage import io\n",
    "import os\n"
   ]
  },
  {
   "cell_type": "code",
   "execution_count": 71,
   "metadata": {},
   "outputs": [],
   "source": [
    "#Example of reading in a file\n",
    "#\"C:/Users/Camille's PC/Documents/cs189/hw6/cs189_hw6/mids189/trainval\"\n",
    "\n",
    "# filename = os.path.join(skimage.data_dir, 'd.jpg')\n",
    "# dog = io.imread(filename)\n",
    "# skimage.io.imshow(dog)\n",
    "\n",
    "# plt.show()\n",
    "# filename2 = os.path.join(skimage.data_dir, 'c.jpg')\n",
    "# cat = io.imread(filename2)\n",
    "# example_data_frame= pd.DataFrame()\n",
    "\n",
    "# example_data_frame['Pictures']=[dog, cat]\n",
    "# example_data_frame['Encoding']=[1,2]\n",
    "# example_data_frame"
   ]
  },
  {
   "cell_type": "markdown",
   "metadata": {},
   "source": [
    "<h4> Using the code for reference, take the given folder and create a dataframe with the picture object, and the encoding as listed below. </h4>\t\n",
    "0=Airplanes, 1=Bear, 2=Blimp, 3=Comet, 4=Crab, 5=Dog, 6=Dolphin, 7=Giraffe, 8=Goat, 9=Gorilla, 10=Kangaroo, 11=Killer-Whale, 12=Leopards, 13=Llama, 14= Penguin, 15= Porcupine, 16=Teddy-Bear, 17=Triceratops, 18=Unicorn, 19=Zebra"
   ]
  },
  {
   "cell_type": "code",
   "execution_count": 72,
   "metadata": {},
   "outputs": [],
   "source": [
    "import matplotlib.image as mpimg\n",
    "import os\n",
    "from PIL import Image\n",
    "def read_organize_data(file_path):\n",
    "    #Fill this function out, should return a dataframe with picture object, and correct encoding\n",
    "    df= pd.DataFrame(columns = ['Photo', 'Encoding'])\n",
    "    photo_encoding = {'airplanes':0, \"bear\":1, \"blimp\":2, \"comet\":2, \"crab\":4, \"dog\":5, \"dolphin\":6, \"giraffe\":7,\n",
    "                     'goat':8, 'gorilla':9, 'kangaroo':10, \"killer-whale\":11, \"leopards\":12, \"llama\":13, \"penguin\":14,\n",
    "                     \"porcupine\": 15, \"teddy-bear\":16, \"triceratops\":17, \"unicorn\":18, \"zebra\":19}\n",
    "    all_folders = photo_encoding.keys()\n",
    "    \n",
    "    for folder in all_folders:\n",
    "        path = file_path + \"/\"+folder\n",
    "        encoding = photo_encoding.get(folder)\n",
    "        for filename in os.listdir(path):\n",
    "            #img = Image.open(path + \"/\" + filename)\n",
    "            img=mpimg.imread(path + \"/\" + filename)\n",
    "            plt.imshow(img)\n",
    "            df2 = pd.DataFrame([[img, encoding]], columns = ['Photo', 'Encoding'])\n",
    "            \n",
    "            df = df.append(df2)\n",
    "    return df\n",
    "    "
   ]
  },
  {
   "cell_type": "code",
   "execution_count": 68,
   "metadata": {},
   "outputs": [],
   "source": [
    "starting_data = read_organize_data(\"./20_categories_training/20_categories_training/20_categories_training\")"
   ]
  },
  {
   "cell_type": "code",
   "execution_count": 38,
   "metadata": {
    "collapsed": true
   },
   "outputs": [],
   "source": [
    "import matplotlib.pyplot as plt\n",
    "from imageio import imread"
   ]
  },
  {
   "cell_type": "code",
   "execution_count": 73,
   "metadata": {},
   "outputs": [
    {
     "data": {
      "text/html": [
       "<div>\n",
       "<style>\n",
       "    .dataframe thead tr:only-child th {\n",
       "        text-align: right;\n",
       "    }\n",
       "\n",
       "    .dataframe thead th {\n",
       "        text-align: left;\n",
       "    }\n",
       "\n",
       "    .dataframe tbody tr th {\n",
       "        vertical-align: top;\n",
       "    }\n",
       "</style>\n",
       "<table border=\"1\" class=\"dataframe\">\n",
       "  <thead>\n",
       "    <tr style=\"text-align: right;\">\n",
       "      <th></th>\n",
       "      <th>Photo</th>\n",
       "      <th>Encoding</th>\n",
       "    </tr>\n",
       "  </thead>\n",
       "  <tbody>\n",
       "    <tr>\n",
       "      <th>0</th>\n",
       "      <td>[[[255, 255, 255], [255, 255, 255], [255, 255,...</td>\n",
       "      <td>0</td>\n",
       "    </tr>\n",
       "    <tr>\n",
       "      <th>0</th>\n",
       "      <td>[[[255, 255, 255], [255, 255, 255], [255, 255,...</td>\n",
       "      <td>0</td>\n",
       "    </tr>\n",
       "    <tr>\n",
       "      <th>0</th>\n",
       "      <td>[[[255, 255, 255], [255, 255, 255], [255, 255,...</td>\n",
       "      <td>0</td>\n",
       "    </tr>\n",
       "    <tr>\n",
       "      <th>0</th>\n",
       "      <td>[[[174, 190, 187], [173, 189, 186], [172, 188,...</td>\n",
       "      <td>0</td>\n",
       "    </tr>\n",
       "    <tr>\n",
       "      <th>0</th>\n",
       "      <td>[[[255, 255, 255], [255, 255, 255], [255, 255,...</td>\n",
       "      <td>0</td>\n",
       "    </tr>\n",
       "  </tbody>\n",
       "</table>\n",
       "</div>"
      ],
      "text/plain": [
       "                                               Photo Encoding\n",
       "0  [[[255, 255, 255], [255, 255, 255], [255, 255,...        0\n",
       "0  [[[255, 255, 255], [255, 255, 255], [255, 255,...        0\n",
       "0  [[[255, 255, 255], [255, 255, 255], [255, 255,...        0\n",
       "0  [[[174, 190, 187], [173, 189, 186], [172, 188,...        0\n",
       "0  [[[255, 255, 255], [255, 255, 255], [255, 255,...        0"
      ]
     },
     "execution_count": 73,
     "metadata": {},
     "output_type": "execute_result"
    }
   ],
   "source": [
    "starting_data.head()"
   ]
  },
  {
   "cell_type": "code",
   "execution_count": 78,
   "metadata": {},
   "outputs": [
    {
     "data": {
      "text/plain": [
       "0    [[[255, 255, 255], [255, 255, 255], [255, 255,...\n",
       "0    [[[255, 255, 255], [255, 255, 255], [255, 255,...\n",
       "0    [[[255, 255, 255], [255, 255, 255], [255, 255,...\n",
       "0    [[[174, 190, 187], [173, 189, 186], [172, 188,...\n",
       "0    [[[255, 255, 255], [255, 255, 255], [255, 255,...\n",
       "0    [[[255, 255, 255], [255, 255, 255], [255, 255,...\n",
       "0    [[[255, 255, 255], [255, 255, 255], [255, 255,...\n",
       "0    [[[255, 255, 241], [252, 249, 232], [141, 136,...\n",
       "0    [[[255, 255, 255], [255, 255, 255], [255, 255,...\n",
       "0    [[[255, 255, 255], [255, 255, 255], [255, 255,...\n",
       "0    [[[255, 255, 255], [255, 255, 255], [255, 255,...\n",
       "0    [[[255, 254, 255], [251, 251, 251], [254, 255,...\n",
       "0    [[[255, 255, 255], [255, 255, 255], [255, 255,...\n",
       "0    [[[255, 255, 255], [255, 255, 255], [255, 255,...\n",
       "0    [[[255, 255, 253], [254, 255, 250], [252, 253,...\n",
       "0    [[[255, 255, 255], [255, 255, 255], [255, 255,...\n",
       "0    [[[88, 56, 17], [95, 63, 24], [101, 69, 30], [...\n",
       "0    [[[61, 78, 60], [58, 75, 57], [43, 60, 42], [5...\n",
       "0    [[[255, 255, 255], [255, 255, 255], [255, 255,...\n",
       "0    [[[255, 255, 255], [255, 255, 255], [255, 255,...\n",
       "0    [[[255, 255, 255], [255, 255, 255], [255, 255,...\n",
       "0    [[[255, 255, 255], [255, 255, 255], [255, 255,...\n",
       "0    [[[255, 255, 255], [255, 255, 255], [255, 255,...\n",
       "0    [[[255, 255, 255], [255, 255, 255], [255, 255,...\n",
       "0    [[[249, 254, 247], [253, 254, 248], [255, 248,...\n",
       "0    [[[255, 255, 255], [255, 255, 255], [255, 255,...\n",
       "0    [[[254, 254, 254], [254, 254, 254], [254, 254,...\n",
       "0    [[[255, 255, 255], [255, 255, 255], [255, 255,...\n",
       "0    [[[255, 255, 255], [255, 255, 255], [255, 255,...\n",
       "0    [[[255, 255, 255], [255, 255, 255], [255, 255,...\n",
       "                           ...                        \n",
       "0    [[[36, 37, 58], [22, 24, 45], [18, 23, 42], [1...\n",
       "0    [[[67, 92, 133], [66, 91, 132], [66, 91, 132],...\n",
       "0    [[[94, 135, 105], [70, 110, 83], [63, 101, 76]...\n",
       "0    [[[21, 24, 13], [20, 23, 12], [19, 22, 13], [1...\n",
       "0    [[[104, 110, 126], [104, 110, 126], [104, 110,...\n",
       "0    [[[255, 255, 255], [255, 255, 255], [255, 255,...\n",
       "0    [[[255, 253, 246], [255, 254, 250], [255, 255,...\n",
       "0    [[[255, 255, 255], [255, 255, 255], [255, 255,...\n",
       "0    [[[255, 255, 255], [255, 255, 255], [255, 255,...\n",
       "0    [[[12, 28, 44], [60, 76, 92], [63, 78, 97], [6...\n",
       "0    [[[68, 68, 68], [61, 61, 61], [52, 52, 54], [4...\n",
       "0    [[[241, 245, 244], [240, 244, 243], [239, 243,...\n",
       "0    [[[160, 150, 148], [160, 150, 148], [160, 150,...\n",
       "0    [[[225, 180, 61], [214, 167, 61], [217, 167, 7...\n",
       "0    [[[55, 69, 78], [55, 69, 78], [55, 69, 78], [5...\n",
       "0    [[[234, 219, 222], [232, 220, 222], [231, 221,...\n",
       "0    [[[64, 54, 42], [61, 51, 39], [58, 48, 36], [5...\n",
       "0    [[[106, 78, 64], [100, 72, 58], [116, 88, 74],...\n",
       "0    [[[220, 244, 228], [211, 238, 221], [218, 245,...\n",
       "0    [[[79, 81, 57], [84, 84, 60], [88, 88, 64], [9...\n",
       "0    [[[110, 104, 92], [110, 104, 92], [110, 104, 9...\n",
       "0    [[[238, 238, 230], [246, 246, 238], [242, 241,...\n",
       "0    [[[34, 36, 35], [16, 18, 17], [9, 11, 10], [15...\n",
       "0    [[[113, 99, 99], [106, 92, 92], [110, 98, 100]...\n",
       "0    [[[110, 115, 118], [110, 115, 118], [114, 122,...\n",
       "0    [[[159, 129, 105], [155, 125, 99], [152, 122, ...\n",
       "0    [[[162, 145, 115], [164, 145, 115], [165, 146,...\n",
       "0    [[[126, 155, 247], [126, 155, 247], [128, 157,...\n",
       "0    [[[10, 195, 0], [48, 255, 33], [21, 236, 44], ...\n",
       "0    [[[0, 0, 0], [0, 0, 0], [0, 0, 0], [0, 0, 0], ...\n",
       "Name: Photo, Length: 1501, dtype: object"
      ]
     },
     "execution_count": 78,
     "metadata": {},
     "output_type": "execute_result"
    }
   ],
   "source": [
    "img1= starting_data[\"Photo\"][0]\n",
    "img1"
   ]
  },
  {
   "cell_type": "code",
   "execution_count": null,
   "metadata": {
    "collapsed": true
   },
   "outputs": [],
   "source": []
  },
  {
   "cell_type": "code",
   "execution_count": null,
   "metadata": {
    "collapsed": true
   },
   "outputs": [],
   "source": [
    "def ft0(image):\n",
    "    return image.size\n",
    "# Returns the pixel size of the image\n",
    "def ft1(image):\n",
    "    raise notImplementedError()\n",
    "# Returns the average of the red-channel pictures for the images\n",
    "def ft2(image):\n",
    "    raise notImplementedError()\n",
    "#Returns the aspect ratio of the imag\n"
   ]
  }
 ],
 "metadata": {
  "kernelspec": {
   "display_name": "Python 3",
   "language": "python",
   "name": "python3"
  }
 },
 "nbformat": 4,
 "nbformat_minor": 2
}
